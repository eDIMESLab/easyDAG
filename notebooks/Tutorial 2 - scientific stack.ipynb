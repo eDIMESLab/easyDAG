{
 "cells": [
  {
   "cell_type": "code",
   "execution_count": 1,
   "metadata": {},
   "outputs": [],
   "source": [
    "from easyDAG import do_eval, Step, InputVariable"
   ]
  },
  {
   "cell_type": "code",
   "execution_count": 2,
   "metadata": {},
   "outputs": [],
   "source": [
    "import pandas as pd"
   ]
  },
  {
   "cell_type": "code",
   "execution_count": 4,
   "metadata": {},
   "outputs": [],
   "source": [
    "left = pd.DataFrame({'key': ['K0', 'K1', 'K2', 'K3'],\n",
    "                     'A': ['A0', 'A1', 'A2', 'A3'],\n",
    "                     'B': ['B0', 'B1', 'B2', 'B3']})\n",
    "\n",
    "right = pd.DataFrame({'key': ['K0', 'K1', 'K2', 'K3'],\n",
    "                      'C': ['C0', 'C1', 'C2', 'C3'],\n",
    "                      'D': ['D0', 'D1', 'D2', 'D3']})\n",
    "a = InputVariable('a')\n",
    "b = InputVariable('b')\n",
    "c = InputVariable('c')\n",
    "result = pd.merge(left, right, on='key')\n",
    "cas_result = Step(pd.merge, a, b, on='key')\n",
    "result_post = do_eval(cas_result, a=left, b=right)\n",
    "assert (result == result_post).all().all()"
   ]
  },
  {
   "cell_type": "code",
   "execution_count": 3,
   "metadata": {},
   "outputs": [],
   "source": [
    "left = pd.DataFrame({'key1': ['K0', 'K0', 'K1', 'K2'],\n",
    "                    'key2': ['K0', 'K1', 'K0', 'K1'],\n",
    "                    'A': ['A0', 'A1', 'A2', 'A3'],\n",
    "                    'B': ['B0', 'B1', 'B2', 'B3']})\n",
    "\n",
    "right = pd.DataFrame({'key1': ['K0', 'K1', 'K1', 'K2'],\n",
    "                     'key2': ['K0', 'K0', 'K0', 'K0'],\n",
    "                     'C': ['C0', 'C1', 'C2', 'C3'],\n",
    "                     'D': ['D0', 'D1', 'D2', 'D3']})\n",
    "a = InputVariable('a')\n",
    "b = InputVariable('b')\n",
    "c = InputVariable('c')\n",
    "result = pd.merge(left, right, how='left', on=['key1', 'key2'])\n",
    "cas_result = Step(pd.merge, a, b, how='left', on=c)\n",
    "result_post = do_eval(cas_result, a=left, b=right, c=['key1', 'key2'])\n",
    "assert (result.fillna(0) == result_post.fillna(0)).all().all()"
   ]
  },
  {
   "cell_type": "code",
   "execution_count": 5,
   "metadata": {},
   "outputs": [],
   "source": [
    "from sklearn.ensemble import RandomForestClassifier\n",
    "import numpy as np\n",
    "X = [[ 1,  2,  3], [11, 12, 13]]\n",
    "y = [0, 1]  # classes of each sample\n",
    "X2 = [[4, 5, 6], [14, 15, 16]]\n",
    "\n",
    "x1_v = InputVariable('X')\n",
    "x2_v = InputVariable('X_new')\n",
    "y_v = InputVariable('y')\n",
    "\n",
    "make_rfc = Step(RandomForestClassifier, random_state=0, n_estimators=10)\n",
    "fitted_clf = make_rfc.fit(X=x1_v, y=y_v)\n",
    "predict = fitted_clf.predict(X=x2_v)\n",
    "result = do_eval(predict, X=X, X_new=X2, y=y)\n",
    "\n",
    "clf_2 = RandomForestClassifier(random_state=0, n_estimators=10)\n",
    "assert np.all(result == clf_2.fit(X, y).predict(X2))\n",
    "\n",
    "make_rfc = Step(RandomForestClassifier, random_state=0, n_estimators=10)\n",
    "fitted_clf = make_rfc.fit(x1_v, y_v)\n",
    "predict = fitted_clf.predict(x2_v)\n",
    "result = do_eval(predict, X=X, X_new=X2, y=y)\n",
    "\n",
    "clf_2 = RandomForestClassifier(random_state=0, n_estimators=10)\n",
    "assert np.all(result == clf_2.fit(X, y).predict(X2))"
   ]
  },
  {
   "cell_type": "code",
   "execution_count": null,
   "metadata": {},
   "outputs": [],
   "source": []
  }
 ],
 "metadata": {
  "kernelspec": {
   "display_name": "Python 3",
   "language": "python",
   "name": "python3"
  },
  "language_info": {
   "codemirror_mode": {
    "name": "ipython",
    "version": 3
   },
   "file_extension": ".py",
   "mimetype": "text/x-python",
   "name": "python",
   "nbconvert_exporter": "python",
   "pygments_lexer": "ipython3",
   "version": "3.7.5"
  }
 },
 "nbformat": 4,
 "nbformat_minor": 2
}
